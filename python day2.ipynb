{
 "cells": [
  {
   "cell_type": "markdown",
   "id": "b26ddafa",
   "metadata": {},
   "source": [
    "###data types and conversions\n",
    "1.float\n",
    "2.int\n",
    "3.string"
   ]
  },
  {
   "cell_type": "code",
   "execution_count": 1,
   "id": "6f966b77",
   "metadata": {},
   "outputs": [
    {
     "name": "stdout",
     "output_type": "stream",
     "text": [
      "n1= 13\n"
     ]
    },
    {
     "data": {
      "text/plain": [
       "int"
      ]
     },
     "execution_count": 1,
     "metadata": {},
     "output_type": "execute_result"
    }
   ],
   "source": [
    "n1=13\n",
    "print(\"n1=\",n1)\n",
    "type(n1)"
   ]
  },
  {
   "cell_type": "code",
   "execution_count": 2,
   "id": "70ca0bac",
   "metadata": {},
   "outputs": [
    {
     "name": "stdout",
     "output_type": "stream",
     "text": [
      "apssdc\n"
     ]
    },
    {
     "data": {
      "text/plain": [
       "str"
      ]
     },
     "execution_count": 2,
     "metadata": {},
     "output_type": "execute_result"
    }
   ],
   "source": [
    "s=\"apssdc\"\n",
    "print(s)\n",
    "type(s)"
   ]
  },
  {
   "cell_type": "code",
   "execution_count": 3,
   "id": "9483c3a0",
   "metadata": {},
   "outputs": [
    {
     "name": "stdout",
     "output_type": "stream",
     "text": [
      "n2= 13.26\n"
     ]
    },
    {
     "data": {
      "text/plain": [
       "float"
      ]
     },
     "execution_count": 3,
     "metadata": {},
     "output_type": "execute_result"
    }
   ],
   "source": [
    "n2=13.26\n",
    "print(\"n2=\",n2)\n",
    "type(n2)"
   ]
  },
  {
   "cell_type": "code",
   "execution_count": 4,
   "id": "e7c787b3",
   "metadata": {},
   "outputs": [
    {
     "data": {
      "text/plain": [
       "float"
      ]
     },
     "execution_count": 4,
     "metadata": {},
     "output_type": "execute_result"
    }
   ],
   "source": [
    "n=12\n",
    "m=12.35\n",
    "type(n)\n",
    "type(m)"
   ]
  },
  {
   "cell_type": "code",
   "execution_count": 6,
   "id": "579b9401",
   "metadata": {},
   "outputs": [
    {
     "name": "stdout",
     "output_type": "stream",
     "text": [
      "<class 'int'>\n",
      "<class 'int'>\n"
     ]
    }
   ],
   "source": [
    "n=12\n",
    "m=4\n",
    "print(type(n))\n",
    "print(type(m))"
   ]
  },
  {
   "cell_type": "code",
   "execution_count": 8,
   "id": "278dd381",
   "metadata": {},
   "outputs": [
    {
     "name": "stdout",
     "output_type": "stream",
     "text": [
      "<class 'int'>\n",
      "<class 'str'>\n"
     ]
    }
   ],
   "source": [
    "n = 13\n",
    "print(type(n))\n",
    "print(type(str(n)))"
   ]
  },
  {
   "cell_type": "code",
   "execution_count": 9,
   "id": "e5d167a8",
   "metadata": {},
   "outputs": [
    {
     "name": "stdout",
     "output_type": "stream",
     "text": [
      "<class 'str'>\n"
     ]
    }
   ],
   "source": [
    "n1=12\n",
    "s=str(n1)\n",
    "print(type(s))"
   ]
  },
  {
   "cell_type": "code",
   "execution_count": 10,
   "id": "3e463a59",
   "metadata": {},
   "outputs": [
    {
     "name": "stdout",
     "output_type": "stream",
     "text": [
      "1210\n"
     ]
    }
   ],
   "source": [
    "num1='12'\n",
    "num2='10'\n",
    "print(num1+num2)"
   ]
  },
  {
   "cell_type": "code",
   "execution_count": 11,
   "id": "34c32ce1",
   "metadata": {},
   "outputs": [
    {
     "name": "stdout",
     "output_type": "stream",
     "text": [
      "susmaramya\n"
     ]
    }
   ],
   "source": [
    "s1=\"susma\"\n",
    "s2=\"ramya\"\n",
    "print(s1+s2)"
   ]
  },
  {
   "cell_type": "code",
   "execution_count": 12,
   "id": "ad51ecba",
   "metadata": {},
   "outputs": [
    {
     "name": "stdout",
     "output_type": "stream",
     "text": [
      "24.4\n"
     ]
    }
   ],
   "source": [
    "n1=12\n",
    "n2=12.4\n",
    "print(n1+n2)"
   ]
  },
  {
   "cell_type": "markdown",
   "id": "ec30d7a7",
   "metadata": {},
   "source": [
    "###indentation"
   ]
  },
  {
   "cell_type": "code",
   "execution_count": 15,
   "id": "3023a782",
   "metadata": {},
   "outputs": [
    {
     "name": "stdout",
     "output_type": "stream",
     "text": [
      "n1 is lessthan n2\n"
     ]
    }
   ],
   "source": [
    "n1,n2=13,12\n",
    "if(n1>n2):\n",
    "    print(\"n1 is lessthan n2\")"
   ]
  },
  {
   "cell_type": "code",
   "execution_count": 16,
   "id": "ace63ec2",
   "metadata": {},
   "outputs": [
    {
     "name": "stdout",
     "output_type": "stream",
     "text": [
      "wrong statement\n"
     ]
    }
   ],
   "source": [
    "n1,n2=13,12\n",
    "if(n1<n2):\n",
    "    print(\"n1 is grarter than n2\")\n",
    "else:\n",
    "    print(\"wrong statement\")"
   ]
  },
  {
   "cell_type": "code",
   "execution_count": 17,
   "id": "88f506a1",
   "metadata": {},
   "outputs": [],
   "source": [
    "### reading ninput dynamically"
   ]
  },
  {
   "cell_type": "code",
   "execution_count": 18,
   "id": "03f8a826",
   "metadata": {},
   "outputs": [],
   "source": [
    "### Reading input dynamically"
   ]
  },
  {
   "cell_type": "code",
   "execution_count": 19,
   "id": "f6f24858",
   "metadata": {},
   "outputs": [
    {
     "name": "stdout",
     "output_type": "stream",
     "text": [
      "123\n",
      "123\n",
      "<class 'str'>\n"
     ]
    }
   ],
   "source": [
    "x = input()\n",
    "print(x)\n",
    "print(type(x))"
   ]
  },
  {
   "cell_type": "markdown",
   "id": "337cc6a6",
   "metadata": {},
   "source": [
    "###  Reading input dynamically"
   ]
  },
  {
   "cell_type": "code",
   "execution_count": 20,
   "id": "052e3bb9",
   "metadata": {},
   "outputs": [
    {
     "name": "stdout",
     "output_type": "stream",
     "text": [
      "<class 'int'>\n",
      "<class 'float'>\n",
      "123\n",
      "123.0\n"
     ]
    }
   ],
   "source": [
    "a = 123\n",
    "print(type(a))\n",
    "f = float(a)\n",
    "print(type(f))\n",
    "print(a)\n",
    "print(f)\n"
   ]
  },
  {
   "cell_type": "code",
   "execution_count": 21,
   "id": "17134735",
   "metadata": {},
   "outputs": [
    {
     "name": "stdout",
     "output_type": "stream",
     "text": [
      "enter a value23\n",
      "23\n",
      "<class 'int'>\n"
     ]
    }
   ],
   "source": [
    "n = int(input(\"enter a value\"))\n",
    "print(n)\n",
    "print(type(n))"
   ]
  },
  {
   "cell_type": "markdown",
   "id": "08114f5b",
   "metadata": {},
   "source": [
    "### arithmatic operators"
   ]
  },
  {
   "cell_type": "code",
   "execution_count": 23,
   "id": "29c3aa47",
   "metadata": {},
   "outputs": [
    {
     "name": "stdout",
     "output_type": "stream",
     "text": [
      "a+b= 8\n",
      "a-b= 2\n",
      "a*b= 15\n",
      "a/b= 1.6666666666666667\n",
      "a%b= 2\n",
      "a//b= 1\n",
      "a**b= 125\n"
     ]
    }
   ],
   "source": [
    "a,b = 5,3\n",
    "print(\"a+b=\",5+3)\n",
    "print(\"a-b=\",5-3)\n",
    "print(\"a*b=\",5*3)\n",
    "print(\"a/b=\",5/3)\n",
    "print(\"a%b=\",5%3)\n",
    "print(\"a//b=\",5//3)\n",
    "print(\"a**b=\",5**3)"
   ]
  },
  {
   "cell_type": "code",
   "execution_count": 24,
   "id": "cfe7b8cf",
   "metadata": {},
   "outputs": [],
   "source": [
    "### 2. assignment operators\n"
   ]
  },
  {
   "cell_type": "code",
   "execution_count": 25,
   "id": "53dee905",
   "metadata": {},
   "outputs": [
    {
     "name": "stdout",
     "output_type": "stream",
     "text": [
      "12\n"
     ]
    }
   ],
   "source": [
    "a = 12\n",
    "print(a)"
   ]
  },
  {
   "cell_type": "code",
   "execution_count": 26,
   "id": "b2db3702",
   "metadata": {},
   "outputs": [
    {
     "name": "stdout",
     "output_type": "stream",
     "text": [
      "13\n"
     ]
    }
   ],
   "source": [
    "a += 1\n",
    "print(a)"
   ]
  },
  {
   "cell_type": "code",
   "execution_count": 27,
   "id": "ef9ee19d",
   "metadata": {},
   "outputs": [
    {
     "name": "stdout",
     "output_type": "stream",
     "text": [
      "12\n"
     ]
    }
   ],
   "source": [
    "a -= 1\n",
    "print(a)"
   ]
  },
  {
   "cell_type": "code",
   "execution_count": 28,
   "id": "4048f40c",
   "metadata": {},
   "outputs": [
    {
     "name": "stdout",
     "output_type": "stream",
     "text": [
      "1728\n"
     ]
    }
   ],
   "source": [
    "a **= 3\n",
    "print(a)"
   ]
  },
  {
   "cell_type": "code",
   "execution_count": 29,
   "id": "1bbf5f30",
   "metadata": {},
   "outputs": [
    {
     "name": "stdout",
     "output_type": "stream",
     "text": [
      "576\n"
     ]
    }
   ],
   "source": [
    "a //= 3\n",
    "print(a)"
   ]
  },
  {
   "cell_type": "markdown",
   "id": "c50a210e",
   "metadata": {},
   "source": [
    "##  Comparison operators"
   ]
  },
  {
   "cell_type": "code",
   "execution_count": 30,
   "id": "5e1773ff",
   "metadata": {},
   "outputs": [
    {
     "name": "stdout",
     "output_type": "stream",
     "text": [
      "False\n"
     ]
    }
   ],
   "source": [
    "x,y = 12,14\n",
    "print(x==y)"
   ]
  },
  {
   "cell_type": "code",
   "execution_count": 31,
   "id": "7ae05240",
   "metadata": {},
   "outputs": [
    {
     "name": "stdout",
     "output_type": "stream",
     "text": [
      "True\n"
     ]
    }
   ],
   "source": [
    "x,y = 5,7\n",
    "print(x != y)"
   ]
  },
  {
   "cell_type": "code",
   "execution_count": 32,
   "id": "735b70b5",
   "metadata": {},
   "outputs": [
    {
     "name": "stdout",
     "output_type": "stream",
     "text": [
      "False\n"
     ]
    }
   ],
   "source": [
    "x,y = 6,7\n",
    "print(x>y)"
   ]
  },
  {
   "cell_type": "code",
   "execution_count": null,
   "id": "e7c08df2",
   "metadata": {},
   "outputs": [],
   "source": []
  },
  {
   "cell_type": "markdown",
   "id": "d46890ac",
   "metadata": {},
   "source": [
    "## logical operators\n",
    " 1.and\n",
    " 2.or\n",
    " 3.not"
   ]
  },
  {
   "cell_type": "code",
   "execution_count": 36,
   "id": "876437f2",
   "metadata": {},
   "outputs": [
    {
     "name": "stdout",
     "output_type": "stream",
     "text": [
      "True\n",
      "True\n"
     ]
    }
   ],
   "source": [
    "a = 5\n",
    "print(a<6 and a>2)\n",
    "print(a<6 or a>2)"
   ]
  },
  {
   "cell_type": "code",
   "execution_count": 37,
   "id": "560764af",
   "metadata": {},
   "outputs": [
    {
     "name": "stdout",
     "output_type": "stream",
     "text": [
      "False\n"
     ]
    }
   ],
   "source": [
    "res = a<6 or a>2\n",
    "print(not (res))"
   ]
  },
  {
   "cell_type": "markdown",
   "id": "6da13c06",
   "metadata": {},
   "source": [
    " ###  identity operators\n",
    " is\n",
    " is not"
   ]
  },
  {
   "cell_type": "code",
   "execution_count": 38,
   "id": "39a0176c",
   "metadata": {},
   "outputs": [
    {
     "name": "stdout",
     "output_type": "stream",
     "text": [
      "False\n"
     ]
    }
   ],
   "source": [
    "x,y = 5,3\n",
    "print(x is y)"
   ]
  },
  {
   "cell_type": "code",
   "execution_count": 39,
   "id": "db04a0e9",
   "metadata": {},
   "outputs": [
    {
     "name": "stdout",
     "output_type": "stream",
     "text": [
      "True\n"
     ]
    }
   ],
   "source": [
    "print(x is not y)"
   ]
  },
  {
   "cell_type": "markdown",
   "id": "653a4559",
   "metadata": {},
   "source": [
    "###  membership operators\n",
    "-in\n",
    "-not in"
   ]
  },
  {
   "cell_type": "code",
   "execution_count": 40,
   "id": "9c62857b",
   "metadata": {},
   "outputs": [
    {
     "name": "stdout",
     "output_type": "stream",
     "text": [
      "False\n"
     ]
    }
   ],
   "source": [
    "fruits = [\"apple,gaova,grapes\"]\n",
    "print('apple'in fruits)"
   ]
  },
  {
   "cell_type": "code",
   "execution_count": 41,
   "id": "0084e192",
   "metadata": {},
   "outputs": [
    {
     "name": "stdout",
     "output_type": "stream",
     "text": [
      "True\n"
     ]
    }
   ],
   "source": [
    "print('banan'not in fruits)"
   ]
  },
  {
   "cell_type": "code",
   "execution_count": 42,
   "id": "ed67c859",
   "metadata": {},
   "outputs": [
    {
     "name": "stdout",
     "output_type": "stream",
     "text": [
      "False\n"
     ]
    }
   ],
   "source": [
    "print(\"banana\" in fruits)"
   ]
  },
  {
   "cell_type": "markdown",
   "id": "6e7dbb07",
   "metadata": {},
   "source": [
    "### Bitwise operators\n",
    "- &, |,^,>>,<<,~"
   ]
  },
  {
   "cell_type": "code",
   "execution_count": 44,
   "id": "b8e47825",
   "metadata": {},
   "outputs": [
    {
     "ename": "SyntaxError",
     "evalue": "invalid syntax (<ipython-input-44-09b80faa52f4>, line 1)",
     "output_type": "error",
     "traceback": [
      "\u001b[1;36m  File \u001b[1;32m\"<ipython-input-44-09b80faa52f4>\"\u001b[1;36m, line \u001b[1;32m1\u001b[0m\n\u001b[1;33m    a = int(input(enter 1st value:))\u001b[0m\n\u001b[1;37m                        ^\u001b[0m\n\u001b[1;31mSyntaxError\u001b[0m\u001b[1;31m:\u001b[0m invalid syntax\n"
     ]
    }
   ],
   "source": [
    "a = int(input(enter 1st value:))\n",
    "b = int(input(enter 2nd value:))\n",
    "print(a)\n",
    "print(b)"
   ]
  },
  {
   "cell_type": "markdown",
   "id": "14150acc",
   "metadata": {},
   "source": [
    "### Looping statements"
   ]
  }
 ],
 "metadata": {
  "kernelspec": {
   "display_name": "Python 3",
   "language": "python",
   "name": "python3"
  },
  "language_info": {
   "codemirror_mode": {
    "name": "ipython",
    "version": 3
   },
   "file_extension": ".py",
   "mimetype": "text/x-python",
   "name": "python",
   "nbconvert_exporter": "python",
   "pygments_lexer": "ipython3",
   "version": "3.8.8"
  }
 },
 "nbformat": 4,
 "nbformat_minor": 5
}
